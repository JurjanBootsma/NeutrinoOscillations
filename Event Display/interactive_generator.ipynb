{
 "cells": [
  {
   "cell_type": "markdown",
   "id": "7130ccc6-497c-4e3b-a1fd-5c1fdc80641a",
   "metadata": {},
   "source": [
    "# Event Display Generator\n",
    "\n",
    "_Authors: Jurjan Bootsma, Bouke Jung, Maarten de Jong_"
   ]
  },
  {
   "cell_type": "markdown",
   "id": "b22e109b-1ae6-47b0-b189-0e9acc388dbc",
   "metadata": {},
   "source": [
    "This jupyter notebook contains a Monte-Carlo event generator for incoming neutrinos reacting with water. You can choose at which event you want to look, at what flavour you want to look (normal or anti-neutrino) and if you want to look at low or high energies. Then you can look at all kinds of plots, namely a plot of the directions, of all the momentums of the particles (looking from the neutrino), a polar plot $\\phi$ against $\\theta$ and a polar plot with $\\phi$ against the transverse momentum. In these plots the neutrino and the outgoing lepton are marked with another colour than the other particles."
   ]
  },
  {
   "cell_type": "code",
   "execution_count": 3,
   "id": "d9547cb6-1ab9-41c5-8c1a-1ab08f7c98e0",
   "metadata": {},
   "outputs": [],
   "source": [
    "import matplotlib.pyplot as plt\n",
    "import numpy as np\n",
    "\n",
    "import km3pipe as kp\n",
    "import km3modules as km\n",
    "import km3io\n",
    "from km3net_testdata import data_path\n",
    "from particle import Particle\n",
    "import ipywidgets as iw\n",
    "import pylorentz as pl\n",
    "from km3pipe import bootsma\n",
    "\n",
    "%matplotlib widget"
   ]
  },
  {
   "cell_type": "code",
   "execution_count": 4,
   "id": "4350c616-7603-4d35-bf52-7001ad4341dd",
   "metadata": {},
   "outputs": [],
   "source": [
    "file_electron_low =  \"/dcache/antares/detector_data/mc/atm-neutrinos/V7.00/generator/KM3NeT_00000049/mcv7.0.gsg_elec-CC_1-100GeV.135.root\"\n",
    "file_anti_electron_low = \"/dcache/antares/detector_data/mc/atm-neutrinos/V7.00/generator/KM3NeT_00000049/mcv7.0.gsg_anti-elec-CC_1-100GeV.106.root\"\n",
    "file_muon_low = \"/dcache/antares/detector_data/mc/atm-neutrinos/V7.00/generator/KM3NeT_00000049/mcv7.0.gsg_muon-CC_1-100GeV.111.root\"\n",
    "file_anti_muon_low = \"/dcache/antares/detector_data/mc/atm-neutrinos/V7.00/generator/KM3NeT_00000049/mcv7.0.gsg_anti-muon-CC_1-100GeV.136.root\"\n",
    "file_tau_low = \"/dcache/antares/detector_data/mc/atm-neutrinos/V7.00/generator/KM3NeT_00000049/mcv7.0.gsg_tau-CC_3-100GeV.100.root\"\n",
    "file_anti_tau_low = \"/dcache/antares/detector_data/mc/atm-neutrinos/V7.00/generator/KM3NeT_00000049/mcv7.0.gsg_anti-tau-CC_3-100GeV.1014.root\"\n",
    "\n",
    "file_electron_high = \"/dcache/antares/detector_data/mc/atm-neutrinos/V7.00/generator/KM3NeT_00000049/mcv7.0.gsg_elec-CC_100-500GeV.133.root\"\n",
    "file_anti_electron_high = \"/dcache/antares/detector_data/mc/atm-neutrinos/V7.00/generator/KM3NeT_00000049/mcv7.0.gsg_anti-elec-CC_100-500GeV.107.root\" \n",
    "file_muon_high = \"/dcache/antares/detector_data/mc/atm-neutrinos/V7.00/generator/KM3NeT_00000049/mcv7.0.gsg_muon-CC_100-500GeV.2.root\"\n",
    "file_anti_muon_high = \"/dcache/antares/detector_data/mc/atm-neutrinos/V7.00/generator/KM3NeT_00000049/mcv7.0.gsg_anti-muon-CC_100-500GeV.127.root\"\n",
    "file_tau_high = \"/dcache/antares/detector_data/mc/atm-neutrinos/V7.00/generator/KM3NeT_00000049/mcv7.0.gsg_tau-CC_100-300GeV.172.root\"\n",
    "file_anti_tau_high = \"/dcache/antares/detector_data/mc/atm-neutrinos/V7.00/generator/KM3NeT_00000049/mcv7.0.gsg_anti-tau-CC_100-300GeV.132.root\""
   ]
  },
  {
   "cell_type": "markdown",
   "id": "501dfa72-2a84-4cf0-89c9-82a87e2c8b32",
   "metadata": {},
   "source": [
    "# Functions"
   ]
  },
  {
   "cell_type": "code",
   "execution_count": 5,
   "id": "7edca016-d09d-4e9f-b883-eb790aa5ec22",
   "metadata": {},
   "outputs": [],
   "source": [
    "def dir_plotter_3D_arrow(f_event):\n",
    "    pos = tuple(np.zeros(f_event.n_mc_trks))\n",
    "    dir_x = tuple(f_event.mc_tracks.dir_x)\n",
    "    dir_y = tuple(f_event.mc_tracks.dir_y)\n",
    "    dir_z = tuple(f_event.mc_tracks.dir_z)\n",
    "    \n",
    "    lepton_bool = bootsma.lepton_finder(f_event.mc_tracks.pdgid)\n",
    "    lepton_bool2 = ~ lepton_bool\n",
    "    \n",
    "    fig, ax = plt.subplots(figsize=(7.5,7.5))\n",
    "    ax = plt.axes(projection='3d')\n",
    "    ax.quiver(0, 0, 0, dir_x[0], dir_y[0], dir_z[0], color='blue', label='incoming neutrino')\n",
    "    ax.quiver(0, 0, 0, lepton_bool[1:]*dir_x[1:], lepton_bool[1:]*dir_y[1:], lepton_bool[1:]*dir_z[1:], color='green', label='outgoing lepton')\n",
    "    ax.quiver(0, 0, 0, lepton_bool2[1:]*dir_x[1:], lepton_bool2[1:]*dir_y[1:], lepton_bool2[1:]*dir_z[1:], color='red', label='other particles')\n",
    "    ax.set_xlabel('dx')\n",
    "    ax.set_ylabel('dy')\n",
    "    ax.set_zlabel('dz')\n",
    "    ax.set_xlim(-1,1)\n",
    "    ax.set_ylim(-1,1)\n",
    "    ax.set_zlim(-1,1)\n",
    "    ax.legend()\n",
    "    ax.set_title(\"Event: Incoming Electron-neutrino\")\n",
    "    plt.show()"
   ]
  },
  {
   "cell_type": "code",
   "execution_count": 6,
   "id": "52d767fc-f231-485d-84b5-6936f5639b83",
   "metadata": {},
   "outputs": [],
   "source": [
    "def lepton_finder(pdg_ids):\n",
    "    electron_bool = (np.abs(pdg_ids) == 11)\n",
    "    muon_bool = (np.abs(pdg_ids) == 13)\n",
    "    tau_bool = (np.abs(pdg_ids) == 15)\n",
    "    lepton_bool = np.array(electron_bool+muon_bool+tau_bool)\n",
    "    return lepton_bool"
   ]
  },
  {
   "cell_type": "code",
   "execution_count": 7,
   "id": "389d3613-2c3f-4a23-a6bc-0188dcff7419",
   "metadata": {},
   "outputs": [],
   "source": [
    "def filename_finder(channel,energy):\n",
    "    if energy == \"low\":\n",
    "        if channel == \"Electron\":\n",
    "            filename = file_electron_low\n",
    "        elif channel == \"Muon\":\n",
    "            filename = file_muon_low\n",
    "        elif channel == \"Tau\":\n",
    "            filename = file_tau_low\n",
    "        elif channel == \"Anti-Electron\":\n",
    "            filename = file_anti_electron_low\n",
    "        elif channel == \"Anti-Muon\":\n",
    "            filename = file_anti_muon_low\n",
    "        elif channel == \"Anti-tau\":\n",
    "            filename = file_anti_tau_low\n",
    "    elif energy == \"high\":\n",
    "        if channel == \"Electron\":\n",
    "            filename = file_electron_high\n",
    "        elif channel == \"Muon\":\n",
    "            filename = file_muon_high\n",
    "        elif channel == \"Tau\":\n",
    "            filename = file_tau_high\n",
    "        elif channel == \"Anti-Electron\":\n",
    "            filename = file_anti_electron_high\n",
    "        elif channel == \"Anti-Muon\":\n",
    "            filename = file_anti_muon_high\n",
    "        elif channel == \"Anti-tau\":\n",
    "            filename = file_anti_tau_high\n",
    "    return filename"
   ]
  },
  {
   "cell_type": "code",
   "execution_count": 8,
   "id": "0423de3f-4afa-4b0d-bd8b-16232f0d4bea",
   "metadata": {},
   "outputs": [],
   "source": [
    "def particles_momentum(f_event):\n",
    "    vectors_final = rotation_particles(f_event)\n",
    "    \n",
    "    momentum = get_momentum(f_event.mc_tracks)\n",
    "    \n",
    "    vectors_final[0] = vectors_final[0]*momentum\n",
    "    vectors_final[1] = vectors_final[1]*momentum\n",
    "    vectors_final[2] = vectors_final[2]*momentum\n",
    "    \n",
    "    return vectors_final"
   ]
  },
  {
   "cell_type": "code",
   "execution_count": 9,
   "id": "db1b484d-e41c-411e-a8ff-7a4285466989",
   "metadata": {},
   "outputs": [],
   "source": [
    "def polar(x, y, z):\n",
    "    r = np.sqrt(x**2+y**2+z**2)\n",
    "    theta = np.arccos(z/r)\n",
    "    theta = np.nan_to_num(theta)\n",
    "    \n",
    "    y_mask1 = (y>=0)\n",
    "    \n",
    "    phi1 = np.arccos(x/np.sqrt(x**2+y**2))\n",
    "    phi_array1 = phi1*y_mask1\n",
    "       \n",
    "    y_mask2 = (y<0)\n",
    "    phi2 = 2*np.pi - np.arccos(x/np.sqrt(x**2+y**2))\n",
    "    phi_array2 = phi2*y_mask2\n",
    "    \n",
    "    phi = phi_array1+phi_array2\n",
    "    phi = np.nan_to_num(phi)\n",
    "    \n",
    "    return r, theta, phi"
   ]
  },
  {
   "cell_type": "code",
   "execution_count": 10,
   "id": "0f2d9548-4485-4ccf-9176-d19d407833c2",
   "metadata": {},
   "outputs": [],
   "source": [
    "def rotation_particles(f_event):\n",
    "    pos = tuple(np.zeros(f_event.n_mc_trks))\n",
    "    dir_x = tuple(f_event.mc_tracks.dir_x)\n",
    "    dir_y = tuple(f_event.mc_tracks.dir_y)\n",
    "    dir_z = tuple(f_event.mc_tracks.dir_z)\n",
    "    \n",
    "    vector = np.array([dir_x[0], dir_y[0], dir_z[0]])\n",
    "    \n",
    "    vector_without_y = np.array([vector[0], 0, vector[2]])    \n",
    "    angle_from_z = kp.math.angle(vector_without_y, np.array([1,0,0]))\n",
    "    y_axis = np.array([0,1,0])\n",
    "    \n",
    "    if vector[2] < 0:\n",
    "        angle_from_z = (2*np.pi-angle_from_z)\n",
    "    rotation_matrix_from_z = kp.math.rotation_matrix(y_axis,angle_from_z)\n",
    "    \n",
    "    vector_new = rotation_matrix_from_z@vector\n",
    "    \n",
    "    vector_without_z = np.array([vector_new[0], vector_new[1], 0])\n",
    "    angle_from_y = kp.math.angle(vector_without_z, np.array([1,0,0]))\n",
    "    z_axis = np.array([0,0,1])\n",
    "    \n",
    "    if vector_new[1] > 0:\n",
    "        angle_from_y = (2*np.pi-angle_from_y)\n",
    "    rotation_matrix_from_y = kp.math.rotation_matrix(z_axis,angle_from_y)\n",
    "    \n",
    "    vector_final = rotation_matrix_from_y@vector_new\n",
    "    \n",
    "    vectors = np.array([dir_x, dir_y, dir_z])\n",
    "    vectors_new = rotation_matrix_from_z@vectors\n",
    "    vectors_final = rotation_matrix_from_y@vectors_new\n",
    "    \n",
    "    return vectors_final"
   ]
  },
  {
   "cell_type": "code",
   "execution_count": 11,
   "id": "64557eea-30fd-4deb-8725-89c33ca8e4ae",
   "metadata": {},
   "outputs": [],
   "source": [
    "def get_momentum(mc_tracks):\n",
    "    masses = get_masses(mc_tracks) #MeV\n",
    "    Es = mc_tracks.E #GeV\n",
    "    Es_MeV = Es * 10**3 #MeV\n",
    "    momentum = np.sqrt(Es_MeV**2 - masses**2)\n",
    "    momentum = np.nan_to_num(momentum) * 10**-3\n",
    "    return momentum"
   ]
  },
  {
   "cell_type": "code",
   "execution_count": 12,
   "id": "93818057-7435-45e3-92cb-63a590197c8a",
   "metadata": {},
   "outputs": [],
   "source": [
    "def get_masses(mc_tracks):\n",
    "    pdg_ids = mc_tracks.pdgid\n",
    "    masses = np.zeros(len(pdg_ids))\n",
    "    i=0\n",
    "    for pdg in pdg_ids:\n",
    "        p = Particle.from_pdgid(pdg)\n",
    "        mass = p.mass\n",
    "        if mass == None:\n",
    "            mass = 0\n",
    "        masses[i]=mass\n",
    "        i=i+1\n",
    "    return masses"
   ]
  },
  {
   "cell_type": "markdown",
   "id": "44c2db18-ae2f-4fa5-9f78-3d2bea85a7bc",
   "metadata": {},
   "source": [
    "# Generator"
   ]
  },
  {
   "cell_type": "code",
   "execution_count": 13,
   "id": "6712f558-78de-438b-a3a0-39ad93c016b3",
   "metadata": {},
   "outputs": [
    {
     "data": {
      "application/vnd.jupyter.widget-view+json": {
       "model_id": "4a5b9af6d55243a787b72d3078913a72",
       "version_major": 2,
       "version_minor": 0
      },
      "text/plain": [
       "interactive(children=(BoundedIntText(value=0, description='Event'), Dropdown(description='Neutrino', options=(…"
      ]
     },
     "metadata": {},
     "output_type": "display_data"
    }
   ],
   "source": [
    "opts = dict(continuous_update=False)\n",
    "@iw.interact\n",
    "def interactive_generator(event=iw.BoundedIntText(value=0,min=0,max=100,description=\"Event\"),\n",
    "                          channel=iw.Dropdown(options=[(\"Electron\",\"Electron\"),(\"Muon\",\"Muon\"),\n",
    "                                                       (\"Tau\",\"Tau\"),(\"Anti-Electron\",\"Anti-Electron\"),\n",
    "                                                       (\"Anti-Muon\",\"Anti-Muon\"),(\"Anti-Tau\",\"Anti-Tau\")],\n",
    "                                              description=\"Neutrino\"),\n",
    "                          energy_range=iw.Dropdown(options=[(\"<100 GeV\",\"low\"),(\">100 GeV\",\"high\")],\n",
    "                                                   description=\"Energy\"),\n",
    "                          plot=iw.Dropdown(options=[(\"Directions\",\"directions\"),(\"Momentum\",\"momentum\"),\n",
    "                                                    (\"Polar plot transverse p\", \"p_t\"),],\n",
    "                                           description=\"Kind of plot\")):\n",
    "    \n",
    "    filename = filename_finder(channel, energy_range)\n",
    "    f = km3io.OfflineReader(data_path(filename))        \n",
    "                          \n",
    "    energies = f[event].mc_tracks.E\n",
    "    lepton_plot = (filename == file_electron_low or filename == file_muon_low\\\n",
    "                   or filename == file_anti_electron_low or filename == file_anti_muon_low\\\n",
    "                   or filename == file_electron_high or filename == file_muon_high\\\n",
    "                   or filename == file_anti_electron_high or filename == file_anti_muon_high)\n",
    "    if lepton_plot == True:\n",
    "        lepton_bool = lepton_finder(f[event].mc_tracks.pdgid)\n",
    "        lepton_bool2 = ~ lepton_bool\n",
    "        lepton_index = np.where(lepton_bool)[0][0]\n",
    "    if plot == \"directions\":\n",
    "        dir_plotter_3D_arrow(f[event])\n",
    "    elif plot == \"momentum\" or plot==\"p_t\":\n",
    "        momentum = particles_momentum(f[event])\n",
    "        if plot == \"momentum\":\n",
    "            fig, ax = plt.subplots(figsize=(7.5,7.5))\n",
    "            ax = plt.axes(projection='3d')\n",
    "            ax.quiver(0, 0, 0, momentum[0][0], momentum[1][0], momentum[2][0], arrow_length_ratio = 0.0, color='blue',label=f\"Neutrino {round(energies[0],1)} GeV\")\n",
    "            if lepton_plot==True:\n",
    "                ax.quiver(0, 0, 0, lepton_bool[1:]*momentum[0][1:], lepton_bool[1:]*momentum[1][1:], lepton_bool[1:]*momentum[2][1:], arrow_length_ratio = 0.0, color='green',label=f\"Lepton {round(energies[lepton_index],1)} GeV\")\n",
    "                ax.quiver(0, 0, 0, lepton_bool2[1:]*momentum[0][1:], lepton_bool2[1:]*momentum[1][1:], lepton_bool2[1:]*momentum[2][1:], arrow_length_ratio = 0.0, color='red', label=\"Particles\")\n",
    "            elif lepton_plot==False:\n",
    "                ax.quiver(0, 0, 0, momentum[0][1:], momentum[1][1:], momentum[2][1:], arrow_length_ratio = 0.0, color='red',label=\"Particles\")\n",
    "            ax.set_xlabel('$p_x$')\n",
    "            ax.set_ylabel('$p_y$')\n",
    "            ax.set_zlabel('$p_z$')\n",
    "            ax.set_xlim(-np.max(np.abs(momentum[0])),np.max(np.abs(momentum[0])))\n",
    "            ax.set_ylim(-np.max(np.abs(momentum[1])),np.max(np.abs(momentum[1])))\n",
    "            ax.set_zlim(-np.max(np.abs(momentum[2])),np.max(np.abs(momentum[2])))\n",
    "            ax.view_init(0,180)\n",
    "            plt.legend(bbox_to_anchor=(1, 0.85), loc=\"right\")\n",
    "            plt.show()            \n",
    "        elif plot == \"p_t\":\n",
    "            r_mom, theta_mom, phi_mom = polar(momentum[1],momentum[2],momentum[0])\n",
    "            momentum_t = np.sqrt(momentum[1]**2 + momentum[2]**2)\n",
    "            fig = plt.figure(figsize=(7.5,7.5))\n",
    "            ax = fig.add_subplot(projection='polar')\n",
    "            c1 = ax.scatter(phi_mom[0], momentum_t[0], color='blue',label=f\"Neutrino {round(energies[0],1)} GeV\")\n",
    "            if lepton_plot==True:\n",
    "                c3 = ax.scatter(phi_mom[lepton_index], momentum_t[lepton_index], color=\"green\",label=f\"Lepton {round(energies[lepton_index],1)} GeV\")\n",
    "            c2 = ax.scatter(np.delete(phi_mom,1), np.delete(momentum_t,1),color='red',label=\"Particles\")\n",
    "            plt.legend(bbox_to_anchor=(1.35, 1), loc=\"right\")\n",
    "            plt.show()                \n",
    "\n",
    "            "
   ]
  },
  {
   "cell_type": "code",
   "execution_count": null,
   "id": "2856ec0f-49ca-48f3-a3c8-e16b860acc09",
   "metadata": {},
   "outputs": [],
   "source": []
  },
  {
   "cell_type": "code",
   "execution_count": null,
   "id": "5b307d11-d1ee-4933-8087-7e687ddc41e8",
   "metadata": {},
   "outputs": [],
   "source": []
  }
 ],
 "metadata": {
  "kernelspec": {
   "display_name": "Python 3",
   "language": "python",
   "name": "python3"
  },
  "language_info": {
   "codemirror_mode": {
    "name": "ipython",
    "version": 3
   },
   "file_extension": ".py",
   "mimetype": "text/x-python",
   "name": "python",
   "nbconvert_exporter": "python",
   "pygments_lexer": "ipython3",
   "version": "3.6.8"
  }
 },
 "nbformat": 4,
 "nbformat_minor": 5
}
