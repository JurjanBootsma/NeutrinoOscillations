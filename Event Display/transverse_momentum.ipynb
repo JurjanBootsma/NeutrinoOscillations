{
 "cells": [
  {
   "cell_type": "markdown",
   "id": "8894a773-943e-4682-99de-baf5926c5eae",
   "metadata": {},
   "source": [
    "# Transverse Momentum Plots"
   ]
  },
  {
   "cell_type": "markdown",
   "id": "67180eb4-44e7-4ab6-9366-7bc2cb46504f",
   "metadata": {},
   "source": [
    "This Jupyter notebook contains generators which polar plots the transverse momenta of the particles involved in an event versus the angle. You see 3 events with all an incoming neutrino of a different flavour at once. You can choose which event you want and at which energy you want to see it."
   ]
  },
  {
   "cell_type": "code",
   "execution_count": 1,
   "id": "a2e992aa-36e9-45eb-a3c6-47d29745c289",
   "metadata": {},
   "outputs": [],
   "source": [
    "import matplotlib.pyplot as plt\n",
    "import numpy as np\n",
    "\n",
    "import km3pipe as kp\n",
    "import km3modules as km\n",
    "import km3io\n",
    "from km3net_testdata import data_path\n",
    "from particle import Particle\n",
    "import ipywidgets as iw\n",
    "\n",
    "%matplotlib widget"
   ]
  },
  {
   "cell_type": "code",
   "execution_count": 2,
   "id": "90083b78-6655-42f7-a57c-9f34992624b3",
   "metadata": {},
   "outputs": [],
   "source": [
    "file_electron = \"/dcache/antares/detector_data/mc/atm-neutrinos/V7.00/generator/KM3NeT_00000049/mcv7.0.gsg_elec-CC_100-500GeV.133.root\"\n",
    "file_anti_electron = \"/dcache/antares/detector_data/mc/atm-neutrinos/V7.00/generator/KM3NeT_00000049/mcv7.0.gsg_anti-elec-CC_100-500GeV.107.root\" \n",
    "file_muon = \"/dcache/antares/detector_data/mc/atm-neutrinos/V7.00/generator/KM3NeT_00000049/mcv7.0.gsg_muon-NC_100-500GeV.144.root\"\n",
    "file_anti_muon = \"/dcache/antares/detector_data/mc/atm-neutrinos/V7.00/generator/KM3NeT_00000049/mcv7.0.gsg_anti-muon-CC_100-500GeV.127.root\"\n",
    "file_tau = \"/dcache/antares/detector_data/mc/atm-neutrinos/V7.00/generator/KM3NeT_00000049/mcv7.0.gsg_tau-CC_100-300GeV.142.root\"\n",
    "file_anti_tau = \"/dcache/antares/detector_data/mc/atm-neutrinos/V7.00/generator/KM3NeT_00000049/mcv7.0.gsg_anti-tau-CC_100-300GeV.132.root\"\n",
    "\n",
    "file_electron = \"/dcache/antares/detector_data/mc/atm-neutrinos/V7.00/generator/KM3NeT_00000049/mcv7.0.gsg_elec-CC_1-100GeV.140.root\"\n",
    "file_muon = \"/dcache/antares/detector_data/mc/atm-neutrinos/V7.00/generator/KM3NeT_00000049/mcv7.0.gsg_muon-CC_1-100GeV.140.root\"\n",
    "file_tau = \"/dcache/antares/detector_data/mc/atm-neutrinos/V7.00/generator/KM3NeT_00000049/mcv7.0.gsg_tau-CC_3-100GeV.1005.root\"\n",
    "\n",
    "f_e = km3io.OfflineReader(data_path(file_electron))\n",
    "f_m = km3io.OfflineReader(data_path(file_muon))\n",
    "f_t = km3io.OfflineReader(data_path(file_tau))\n"
   ]
  },
  {
   "cell_type": "markdown",
   "id": "179065cc-dbc2-4ad0-b8f8-106092e61461",
   "metadata": {},
   "source": [
    "# Functions"
   ]
  },
  {
   "cell_type": "code",
   "execution_count": 3,
   "id": "29cf589b-318e-4a52-8b10-ca9b465de545",
   "metadata": {},
   "outputs": [],
   "source": [
    "def particles_momentum(f_event):\n",
    "    vectors_final = rotation_particles(f_event)\n",
    "    \n",
    "    momentum = get_momentum(f_event.mc_tracks)\n",
    "    \n",
    "    vectors_final[0] = vectors_final[0]*momentum\n",
    "    vectors_final[1] = vectors_final[1]*momentum\n",
    "    vectors_final[2] = vectors_final[2]*momentum\n",
    "    \n",
    "    return vectors_final"
   ]
  },
  {
   "cell_type": "code",
   "execution_count": 12,
   "id": "05f7a5d2-9fe0-4d6d-8743-e382682a75e7",
   "metadata": {},
   "outputs": [],
   "source": [
    "def polar(x, y, z):\n",
    "    #r = np.sqrt(x**2+y**2+z**2)\n",
    "    theta = np.arccos(z/r)\n",
    "    theta = np.nan_to_num(theta)\n",
    "    \n",
    "    y_mask1 = (y>=0)\n",
    "    \n",
    "    phi1 = np.arccos(x/np.sqrt(x**2+y**2))\n",
    "    phi_array1 = phi1*y_mask1\n",
    "       \n",
    "    y_mask2 = (y<0)\n",
    "    phi2 = 2*np.pi - np.arccos(x/np.sqrt(x**2+y**2))\n",
    "    phi_array2 = phi2*y_mask2\n",
    "    \n",
    "    phi = phi_array1+phi_array2\n",
    "    phi = np.nan_to_num(phi)\n",
    "    \n",
    "    return r, theta, phi"
   ]
  },
  {
   "cell_type": "code",
   "execution_count": 5,
   "id": "641d349f-338f-4419-859e-136d16df116b",
   "metadata": {},
   "outputs": [],
   "source": [
    "def rotation_particles(f_event):\n",
    "    pos = tuple(np.zeros(f_event.n_mc_trks))\n",
    "    dir_x = tuple(f_event.mc_tracks.dir_x)\n",
    "    dir_y = tuple(f_event.mc_tracks.dir_y)\n",
    "    dir_z = tuple(f_event.mc_tracks.dir_z)\n",
    "    \n",
    "    vector = np.array([dir_x[0], dir_y[0], dir_z[0]])\n",
    "    \n",
    "    vector_without_y = np.array([vector[0], 0, vector[2]])    \n",
    "    angle_from_z = kp.math.angle(vector_without_y, np.array([1,0,0]))\n",
    "    y_axis = np.array([0,1,0])\n",
    "    \n",
    "    if vector[2] < 0:\n",
    "        angle_from_z = (2*np.pi-angle_from_z)\n",
    "    rotation_matrix_from_z = kp.math.rotation_matrix(y_axis,angle_from_z)\n",
    "    \n",
    "    vector_new = rotation_matrix_from_z@vector\n",
    "    \n",
    "    vector_without_z = np.array([vector_new[0], vector_new[1], 0])\n",
    "    angle_from_y = kp.math.angle(vector_without_z, np.array([1,0,0]))\n",
    "    z_axis = np.array([0,0,1])\n",
    "    \n",
    "    if vector_new[1] > 0:\n",
    "        angle_from_y = (2*np.pi-angle_from_y)\n",
    "    rotation_matrix_from_y = kp.math.rotation_matrix(z_axis,angle_from_y)\n",
    "    \n",
    "    vector_final = rotation_matrix_from_y@vector_new\n",
    "    \n",
    "    vectors = np.array([dir_x, dir_y, dir_z])\n",
    "    vectors_new = rotation_matrix_from_z@vectors\n",
    "    vectors_final = rotation_matrix_from_y@vectors_new\n",
    "    \n",
    "    return vectors_final"
   ]
  },
  {
   "cell_type": "code",
   "execution_count": 6,
   "id": "c88a4e30-be68-4e31-b68a-ddaf24a12d66",
   "metadata": {},
   "outputs": [],
   "source": [
    "def get_momentum(mc_tracks):\n",
    "    masses = get_masses(mc_tracks) #MeV\n",
    "    Es = mc_tracks.E #GeV\n",
    "    Es_MeV = Es * 10**3 #MeV\n",
    "    momentum = np.sqrt(Es_MeV**2 - masses**2)\n",
    "    momentum = np.nan_to_num(momentum) * 10**-3\n",
    "    return momentum"
   ]
  },
  {
   "cell_type": "code",
   "execution_count": 7,
   "id": "b808d4d7-f6ff-4b38-977f-ebb805ce9089",
   "metadata": {},
   "outputs": [],
   "source": [
    "def get_masses(mc_tracks):\n",
    "    pdg_ids = mc_tracks.pdgid\n",
    "    masses = np.zeros(len(pdg_ids))\n",
    "    i=0\n",
    "    for pdg in pdg_ids:\n",
    "        p = Particle.from_pdgid(pdg)\n",
    "        mass = p.mass\n",
    "        if mass == None:\n",
    "            mass = 0\n",
    "        masses[i]=mass\n",
    "        i=i+1\n",
    "    return masses"
   ]
  },
  {
   "cell_type": "markdown",
   "id": "8361532f-ef50-4959-8097-693297ef0704",
   "metadata": {},
   "source": [
    "# Polar Transverse Momentum Plot Generator"
   ]
  },
  {
   "cell_type": "code",
   "execution_count": 11,
   "id": "c8fb4f12-ea59-4fee-8f20-4684e2fc218e",
   "metadata": {},
   "outputs": [
    {
     "data": {
      "application/vnd.jupyter.widget-view+json": {
       "model_id": "ce443129e44e41d4ac2aa1574b6c385c",
       "version_major": 2,
       "version_minor": 0
      },
      "text/plain": [
       "interactive(children=(BoundedIntText(value=0, description='Event'), IntSlider(value=3, description='energy', m…"
      ]
     },
     "metadata": {},
     "output_type": "display_data"
    }
   ],
   "source": [
    "E_e_sort = np.sort(np.around((f_e.mc_tracks.E)[:,0]))\n",
    "index_e = np.argsort(np.around((f_e.mc_tracks.E)[:,0]))\n",
    "E_e_sort2 = E_e_sort[E_e_sort!=1]\n",
    "E_e_sort3 = E_e_sort2[E_e_sort2!=2]\n",
    "index_e = index_e[E_e_sort!=1]\n",
    "index_e = index_e[E_e_sort2!=2]\n",
    "\n",
    "E_m_sort = np.sort(np.around((f_m.mc_tracks.E)[:,0]))\n",
    "index_m = np.argsort(np.around((f_m.mc_tracks.E)[:,0]))\n",
    "E_m_sort2 = E_m_sort[E_m_sort!=1]\n",
    "E_m_sort3 = E_m_sort2[E_m_sort2!=2]\n",
    "index_m = index_m[E_m_sort!=1]\n",
    "index_m = index_m[E_m_sort2!=2]\n",
    "\n",
    "\n",
    "E_t_sort = np.sort(np.around((f_t.mc_tracks.E)[:,0]))\n",
    "index_t = np.argsort(np.around((f_t.mc_tracks.E)[:,0]))\n",
    "E_t_sort2 = E_t_sort[E_t_sort!=1]\n",
    "E_t_sort3 = E_t_sort2[E_t_sort2!=2]\n",
    "index_t = index_t[E_t_sort!=1]\n",
    "index_t = index_t[E_t_sort2!=2]\n",
    "\n",
    "opts = dict(continuous_update=False)\n",
    "@iw.interact\n",
    "def transverse_momentum(event=iw.BoundedIntText(value=0,min=0,max=100,description=\"Event\"),\n",
    "                        energy=iw.IntSlider(value=3,min=3,max=20)):\n",
    "    index_e_energy = index_e[E_e_sort3==energy]\n",
    "    momentum1 = particles_momentum(f_e[index_e_energy[event]])\n",
    "    r_mom1, theta_mom1, phi_mom1 = polar(momentum1[1],momentum1[2],momentum1[0])\n",
    "    momentum_t1 = np.sqrt(momentum1[1]**2 + momentum1[2]**2)\n",
    "    E1 = round(f_e[index_e_energy[event]].mc_tracks.E[0])\n",
    "\n",
    "    index_m_energy = index_m[E_m_sort3==energy]\n",
    "    momentum2 = particles_momentum(f_m[index_m_energy[event]])\n",
    "    r_mom2, theta_mom2, phi_mom2 = polar(momentum2[1],momentum2[2],momentum2[0])\n",
    "    momentum_t2 = np.sqrt(momentum2[1]**2 + momentum2[2]**2)\n",
    "    E2 = round(f_m[index_m_energy[event]].mc_tracks.E[0])\n",
    "\n",
    "    index_t_energy = index_t[E_t_sort3==energy]\n",
    "    momentum3 = particles_momentum(f_t[index_t_energy[event]])\n",
    "    r_mom3, theta_mom3, phi_mom3 = polar(momentum3[1],momentum3[2],momentum3[0])\n",
    "    momentum_t3 = np.sqrt(momentum3[1]**2 + momentum3[2]**2)\n",
    "    E3 = round(f_t[index_t_energy[event]].mc_tracks.E[0])\n",
    "\n",
    "    fig = plt.figure()\n",
    "    ax = fig.add_subplot(projection='polar')\n",
    "    c = ax.scatter(np.delete(phi_mom1,1), np.delete(momentum_t1,1), color='blue', label=f\"Electron, E = {E1} GeV\")\n",
    "    c = ax.scatter(np.delete(phi_mom2,1), np.delete(momentum_t2,1), color='green', label=f\"Muon, E = {E2} GeV\")\n",
    "    c = ax.scatter(np.delete(phi_mom3,1), np.delete(momentum_t3,1), color='red', label=f\"Tau, E = {E3} GeV\")\n",
    "    plt.legend(bbox_to_anchor=(1.35, 1), loc=\"right\")\n",
    "    plt.xlabel(\"phi\")\n",
    "    ax.set_rlim(0,1)\n",
    "    plt.show()    "
   ]
  },
  {
   "cell_type": "code",
   "execution_count": null,
   "id": "43049462-8935-436f-83aa-002f713f1035",
   "metadata": {},
   "outputs": [],
   "source": []
  }
 ],
 "metadata": {
  "kernelspec": {
   "display_name": "Python 3",
   "language": "python",
   "name": "python3"
  },
  "language_info": {
   "codemirror_mode": {
    "name": "ipython",
    "version": 3
   },
   "file_extension": ".py",
   "mimetype": "text/x-python",
   "name": "python",
   "nbconvert_exporter": "python",
   "pygments_lexer": "ipython3",
   "version": "3.6.8"
  }
 },
 "nbformat": 4,
 "nbformat_minor": 5
}
