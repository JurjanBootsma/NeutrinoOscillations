{
 "cells": [
  {
   "cell_type": "markdown",
   "id": "41300f57-594b-4e2e-bf95-2454a72e28c2",
   "metadata": {},
   "source": [
    "# EMC Effect"
   ]
  },
  {
   "cell_type": "markdown",
   "id": "b6dc765a-515f-4826-bbcb-049f4c9da8ea",
   "metadata": {},
   "source": [
    "This notebook tries to find the EMC effect in the simulated neutrino data. The EMC effect is the observation that the cross section of a nucleus is different from the cross section of the same number of nucleons."
   ]
  },
  {
   "cell_type": "code",
   "execution_count": 44,
   "id": "e7f445d2-ba46-4540-91df-3b885137615a",
   "metadata": {},
   "outputs": [],
   "source": [
    "import matplotlib.pyplot as plt\n",
    "import numpy as np\n",
    "\n",
    "import km3pipe as kp\n",
    "import km3modules as km\n",
    "import km3io\n",
    "from km3net_testdata import data_path\n",
    "from particle import Particle"
   ]
  },
  {
   "cell_type": "code",
   "execution_count": 45,
   "id": "c8e20134-05c2-4a82-89aa-bcbd8ef80ba0",
   "metadata": {},
   "outputs": [],
   "source": [
    "file = \"/dcache/antares/detector_data/mc/atm-neutrinos/V7.00/generator/KM3NeT_00000049/mcv7.0.gsg_muon-NC_100-500GeV.132.root\"\n",
    "\n",
    "f = km3io.OfflineReader(data_path(file))\n",
    "\n",
    "bjorken_x = f.w2list[:,7]\n",
    "cross_section = f.w2list[:,14] #Differential cross section!\n",
    "energies = f.mc_tracks.E[:,0]\n",
    "\n"
   ]
  },
  {
   "cell_type": "code",
   "execution_count": 46,
   "id": "d5c01f1e-37f2-4f83-baf2-6632b8cfe01f",
   "metadata": {},
   "outputs": [],
   "source": [
    "bjorken_x = f.w2list[:,7]\n",
    "cross_section = f.w2list[:,14] #Differential cross section!\n",
    "energies = f.mc_tracks.E[:,0]\n",
    "\n",
    "hydrogen = (f.mc_tracks.pdgid[:,1]==2212)\n",
    "bjorken_x_H = bjorken_x[hydrogen]\n",
    "cross_section_H = cross_section[hydrogen]\n",
    "energies_H = energies[hydrogen]\n",
    "interaction_channel_H = f.w2list[:,9][hydrogen]\n",
    "\n",
    "oxygen = (f.mc_tracks.pdgid[:,1]==1000080160)\n",
    "bjorken_x_O = bjorken_x[oxygen]\n",
    "cross_section_O = cross_section[oxygen]\n",
    "energies_O = energies[oxygen]\n",
    "interaction_channel_O = f.w2list[:,9][oxygen]"
   ]
  },
  {
   "cell_type": "code",
   "execution_count": 47,
   "id": "62290f8c-b3a1-4c1a-a3a2-f207d95987be",
   "metadata": {},
   "outputs": [],
   "source": [
    "boolean_H = (energies_H > 100) * (energies_H < 110)\n",
    "boolean_O = (energies_O > 100) * (energies_O < 110)"
   ]
  },
  {
   "cell_type": "code",
   "execution_count": 48,
   "id": "02d40b88-04ed-48f1-acdc-c1e799a86d7d",
   "metadata": {},
   "outputs": [],
   "source": [
    "def process_bins_with_error(cross_section,interaction_channel,quantity,bound1,bound2,bintype,bins):\n",
    "    cs_DIS = np.zeros(bins)\n",
    "    errors = np.zeros(bins)\n",
    "\n",
    "    if bintype == 'log':\n",
    "        quantity = np.log10(quantity)\n",
    "        bound1 = np.log10(bound1)\n",
    "        bound2 = np.log10(bound2)\n",
    "        quantity_binned = np.logspace(bound1,bound2,base=10,num=bins)\n",
    "    elif bintype == 'linear':\n",
    "        quantity_binned = np.linspace(bound1,bound2,num=bins)\n",
    "        \n",
    "    binsize = (bound2-bound1)/bins\n",
    "    i = 0\n",
    "    q = bound1\n",
    "    while i < bins-1:\n",
    "        boolean_bin = (quantity>q) * (quantity<q+binsize)\n",
    "        DIS_values = cross_section[boolean_bin*(interaction_channel==3)]\n",
    "        \n",
    "        cs_DIS[i] = np.mean(DIS_values)\n",
    "        errors[i] = np.std(DIS_values)/np.sqrt(len(DIS_values))\n",
    "                              \n",
    "        i = i+1\n",
    "        q = q+binsize\n",
    "    \n",
    "    quantity_binned = quantity_binned + (quantity_binned[1]-quantity_binned[0])/2\n",
    "    return quantity_binned, cs_DIS, errors"
   ]
  },
  {
   "cell_type": "code",
   "execution_count": 49,
   "id": "03fd76f3-8c05-472b-94d1-9941bdbb36d7",
   "metadata": {},
   "outputs": [],
   "source": [
    "E_H, cs_H, err_H = process_bins_with_error(cross_section_H[boolean_H],interaction_channel_H[boolean_H],bjorken_x_H[boolean_H],0,1,'linear',10)\n",
    "E_O, cs_O, err_O = process_bins_with_error(cross_section_O[boolean_O],interaction_channel_O[boolean_O],bjorken_x_O[boolean_O],0,1,'linear',10)\n",
    "\n"
   ]
  },
  {
   "cell_type": "code",
   "execution_count": 50,
   "id": "0efdd1ca-4563-4f03-87c6-12aa112c4525",
   "metadata": {},
   "outputs": [
    {
     "name": "stderr",
     "output_type": "stream",
     "text": [
      "/project/antares/jurjanbootsma/venv/lib64/python3.6/site-packages/ipykernel_launcher.py:2: RuntimeWarning: invalid value encountered in true_divide\n",
      "  \n",
      "/project/antares/jurjanbootsma/venv/lib64/python3.6/site-packages/ipykernel_launcher.py:3: RuntimeWarning: invalid value encountered in true_divide\n",
      "  This is separate from the ipykernel package so we can avoid doing imports until\n"
     ]
    }
   ],
   "source": [
    "norm = 16\n",
    "ratio = (cs_O/norm)/cs_H\n",
    "errors = (err_H/cs_H) + ((cs_O/norm)*(err_O/norm))/cs_H**2\n"
   ]
  },
  {
   "cell_type": "code",
   "execution_count": 51,
   "id": "c42253e2-1296-44b8-b8ad-6c1a141b1c23",
   "metadata": {},
   "outputs": [
    {
     "data": {
      "image/png": "[encoded data removed]",
      "text/plain": [
       "<Figure size 864x576 with 1 Axes>"
      ]
     },
     "metadata": {
      "needs_background": "light"
     },
     "output_type": "display_data"
    }
   ],
   "source": [
    "plt.figure(figsize=(12,8))\n",
    "plt.errorbar(E_H, ratio, yerr=errors, fmt='.')\n",
    "plt.xlim(-0.02,1.02)\n",
    "plt.grid()\n",
    "plt.show()"
   ]
  },
  {
   "cell_type": "markdown",
   "id": "ec0b71db-0400-4f54-be49-916a7da019f8",
   "metadata": {},
   "source": [
    "# Combining Files"
   ]
  },
  {
   "cell_type": "markdown",
   "id": "c0fbf38d-e874-4efd-9ceb-874d36209fff",
   "metadata": {},
   "source": [
    "To get the error lower, the same analysis is repeated, but then with 50 files."
   ]
  },
  {
   "cell_type": "code",
   "execution_count": 52,
   "id": "63e762ee-d685-4fa1-9a34-e5e5959cbe24",
   "metadata": {},
   "outputs": [],
   "source": [
    "filenames = [\"/dcache/antares/detector_data/mc/atm-neutrinos/V7.00/generator/KM3NeT_00000049/mcv7.0.gsg_muon-NC_100-500GeV.101.root\",\n",
    "             \"/dcache/antares/detector_data/mc/atm-neutrinos/V7.00/generator/KM3NeT_00000049/mcv7.0.gsg_muon-NC_100-500GeV.102.root\",\n",
    "             \"/dcache/antares/detector_data/mc/atm-neutrinos/V7.00/generator/KM3NeT_00000049/mcv7.0.gsg_muon-NC_100-500GeV.103.root\",\n",
    "             \"/dcache/antares/detector_data/mc/atm-neutrinos/V7.00/generator/KM3NeT_00000049/mcv7.0.gsg_muon-NC_100-500GeV.104.root\",\n",
    "             \"/dcache/antares/detector_data/mc/atm-neutrinos/V7.00/generator/KM3NeT_00000049/mcv7.0.gsg_muon-NC_100-500GeV.105.root\",\n",
    "             \"/dcache/antares/detector_data/mc/atm-neutrinos/V7.00/generator/KM3NeT_00000049/mcv7.0.gsg_muon-NC_100-500GeV.106.root\",\n",
    "             \"/dcache/antares/detector_data/mc/atm-neutrinos/V7.00/generator/KM3NeT_00000049/mcv7.0.gsg_muon-NC_100-500GeV.107.root\",\n",
    "             \"/dcache/antares/detector_data/mc/atm-neutrinos/V7.00/generator/KM3NeT_00000049/mcv7.0.gsg_muon-NC_100-500GeV.108.root\",\n",
    "             \"/dcache/antares/detector_data/mc/atm-neutrinos/V7.00/generator/KM3NeT_00000049/mcv7.0.gsg_muon-NC_100-500GeV.109.root\",\n",
    "             \"/dcache/antares/detector_data/mc/atm-neutrinos/V7.00/generator/KM3NeT_00000049/mcv7.0.gsg_muon-NC_100-500GeV.110.root\",\n",
    "             \"/dcache/antares/detector_data/mc/atm-neutrinos/V7.00/generator/KM3NeT_00000049/mcv7.0.gsg_muon-NC_100-500GeV.111.root\",\n",
    "             \"/dcache/antares/detector_data/mc/atm-neutrinos/V7.00/generator/KM3NeT_00000049/mcv7.0.gsg_muon-NC_100-500GeV.112.root\",\n",
    "             \"/dcache/antares/detector_data/mc/atm-neutrinos/V7.00/generator/KM3NeT_00000049/mcv7.0.gsg_muon-NC_100-500GeV.113.root\",\n",
    "             \"/dcache/antares/detector_data/mc/atm-neutrinos/V7.00/generator/KM3NeT_00000049/mcv7.0.gsg_muon-NC_100-500GeV.114.root\",\n",
    "             \"/dcache/antares/detector_data/mc/atm-neutrinos/V7.00/generator/KM3NeT_00000049/mcv7.0.gsg_muon-NC_100-500GeV.115.root\",\n",
    "             \"/dcache/antares/detector_data/mc/atm-neutrinos/V7.00/generator/KM3NeT_00000049/mcv7.0.gsg_muon-NC_100-500GeV.116.root\",\n",
    "             \"/dcache/antares/detector_data/mc/atm-neutrinos/V7.00/generator/KM3NeT_00000049/mcv7.0.gsg_muon-NC_100-500GeV.117.root\",\n",
    "             \"/dcache/antares/detector_data/mc/atm-neutrinos/V7.00/generator/KM3NeT_00000049/mcv7.0.gsg_muon-NC_100-500GeV.118.root\",\n",
    "             \"/dcache/antares/detector_data/mc/atm-neutrinos/V7.00/generator/KM3NeT_00000049/mcv7.0.gsg_muon-NC_100-500GeV.119.root\",\n",
    "             \"/dcache/antares/detector_data/mc/atm-neutrinos/V7.00/generator/KM3NeT_00000049/mcv7.0.gsg_muon-NC_100-500GeV.120.root\",\n",
    "             \"/dcache/antares/detector_data/mc/atm-neutrinos/V7.00/generator/KM3NeT_00000049/mcv7.0.gsg_muon-NC_100-500GeV.121.root\",\n",
    "             \"/dcache/antares/detector_data/mc/atm-neutrinos/V7.00/generator/KM3NeT_00000049/mcv7.0.gsg_muon-NC_100-500GeV.122.root\",\n",
    "             \"/dcache/antares/detector_data/mc/atm-neutrinos/V7.00/generator/KM3NeT_00000049/mcv7.0.gsg_muon-NC_100-500GeV.123.root\",\n",
    "             \"/dcache/antares/detector_data/mc/atm-neutrinos/V7.00/generator/KM3NeT_00000049/mcv7.0.gsg_muon-NC_100-500GeV.124.root\",\n",
    "             \"/dcache/antares/detector_data/mc/atm-neutrinos/V7.00/generator/KM3NeT_00000049/mcv7.0.gsg_muon-NC_100-500GeV.125.root\",\n",
    "             \"/dcache/antares/detector_data/mc/atm-neutrinos/V7.00/generator/KM3NeT_00000049/mcv7.0.gsg_muon-NC_100-500GeV.126.root\",\n",
    "             \"/dcache/antares/detector_data/mc/atm-neutrinos/V7.00/generator/KM3NeT_00000049/mcv7.0.gsg_muon-NC_100-500GeV.127.root\",\n",
    "             \"/dcache/antares/detector_data/mc/atm-neutrinos/V7.00/generator/KM3NeT_00000049/mcv7.0.gsg_muon-NC_100-500GeV.128.root\",\n",
    "             \"/dcache/antares/detector_data/mc/atm-neutrinos/V7.00/generator/KM3NeT_00000049/mcv7.0.gsg_muon-NC_100-500GeV.129.root\",\n",
    "             \"/dcache/antares/detector_data/mc/atm-neutrinos/V7.00/generator/KM3NeT_00000049/mcv7.0.gsg_muon-NC_100-500GeV.130.root\",\n",
    "             \"/dcache/antares/detector_data/mc/atm-neutrinos/V7.00/generator/KM3NeT_00000049/mcv7.0.gsg_muon-NC_100-500GeV.131.root\",\n",
    "             \"/dcache/antares/detector_data/mc/atm-neutrinos/V7.00/generator/KM3NeT_00000049/mcv7.0.gsg_muon-NC_100-500GeV.132.root\",\n",
    "             \"/dcache/antares/detector_data/mc/atm-neutrinos/V7.00/generator/KM3NeT_00000049/mcv7.0.gsg_muon-NC_100-500GeV.133.root\",\n",
    "             \"/dcache/antares/detector_data/mc/atm-neutrinos/V7.00/generator/KM3NeT_00000049/mcv7.0.gsg_muon-NC_100-500GeV.134.root\",\n",
    "             \"/dcache/antares/detector_data/mc/atm-neutrinos/V7.00/generator/KM3NeT_00000049/mcv7.0.gsg_muon-NC_100-500GeV.135.root\",\n",
    "             \"/dcache/antares/detector_data/mc/atm-neutrinos/V7.00/generator/KM3NeT_00000049/mcv7.0.gsg_muon-NC_100-500GeV.136.root\",\n",
    "             \"/dcache/antares/detector_data/mc/atm-neutrinos/V7.00/generator/KM3NeT_00000049/mcv7.0.gsg_muon-NC_100-500GeV.137.root\",\n",
    "             \"/dcache/antares/detector_data/mc/atm-neutrinos/V7.00/generator/KM3NeT_00000049/mcv7.0.gsg_muon-NC_100-500GeV.138.root\",\n",
    "             \"/dcache/antares/detector_data/mc/atm-neutrinos/V7.00/generator/KM3NeT_00000049/mcv7.0.gsg_muon-NC_100-500GeV.139.root\",\n",
    "             \"/dcache/antares/detector_data/mc/atm-neutrinos/V7.00/generator/KM3NeT_00000049/mcv7.0.gsg_muon-NC_100-500GeV.140.root\",\n",
    "             \"/dcache/antares/detector_data/mc/atm-neutrinos/V7.00/generator/KM3NeT_00000049/mcv7.0.gsg_muon-NC_100-500GeV.141.root\",\n",
    "             \"/dcache/antares/detector_data/mc/atm-neutrinos/V7.00/generator/KM3NeT_00000049/mcv7.0.gsg_muon-NC_100-500GeV.142.root\",\n",
    "             \"/dcache/antares/detector_data/mc/atm-neutrinos/V7.00/generator/KM3NeT_00000049/mcv7.0.gsg_muon-NC_100-500GeV.143.root\",\n",
    "             \"/dcache/antares/detector_data/mc/atm-neutrinos/V7.00/generator/KM3NeT_00000049/mcv7.0.gsg_muon-NC_100-500GeV.144.root\",\n",
    "             \"/dcache/antares/detector_data/mc/atm-neutrinos/V7.00/generator/KM3NeT_00000049/mcv7.0.gsg_muon-NC_100-500GeV.145.root\",\n",
    "             \"/dcache/antares/detector_data/mc/atm-neutrinos/V7.00/generator/KM3NeT_00000049/mcv7.0.gsg_muon-NC_100-500GeV.146.root\",\n",
    "             \"/dcache/antares/detector_data/mc/atm-neutrinos/V7.00/generator/KM3NeT_00000049/mcv7.0.gsg_muon-NC_100-500GeV.147.root\",\n",
    "             \"/dcache/antares/detector_data/mc/atm-neutrinos/V7.00/generator/KM3NeT_00000049/mcv7.0.gsg_muon-NC_100-500GeV.148.root\",\n",
    "             \"/dcache/antares/detector_data/mc/atm-neutrinos/V7.00/generator/KM3NeT_00000049/mcv7.0.gsg_muon-NC_100-500GeV.149.root\",\n",
    "             \"/dcache/antares/detector_data/mc/atm-neutrinos/V7.00/generator/KM3NeT_00000049/mcv7.0.gsg_muon-NC_100-500GeV.150.root\"]\n",
    "       \n",
    "bjorken_x = np.array([])\n",
    "cross_section = np.array([])\n",
    "energies = np.array([])\n",
    "nucleus = np.array([])\n",
    "interaction_channel = np.array([])\n",
    "for filename in filenames:\n",
    "    f = km3io.OfflineReader(data_path(filename))\n",
    "    bjorken_x = np.concatenate((bjorken_x,np.array(f.w2list[:,7])))\n",
    "    cross_section = np.concatenate((cross_section,np.array(f.w2list[:,14]))) #Diff cs\n",
    "    energies = np.concatenate((energies,np.array(f.mc_tracks.E[:,0])))\n",
    "    nucleus = np.concatenate((nucleus,np.array(f.mc_tracks.pdgid[:,1])))\n",
    "    interaction_channel = np.concatenate((interaction_channel,np.array(f.w2list[:,9])))\n",
    "             "
   ]
  },
  {
   "cell_type": "code",
   "execution_count": 53,
   "id": "759747c8-63fb-46b9-a9a2-6a1051dff7b0",
   "metadata": {},
   "outputs": [],
   "source": [
    "bjorken_x_H = bjorken_x[nucleus==2212]\n",
    "cross_section_H = cross_section[nucleus==2212]\n",
    "energies_H = energies[nucleus==2212]\n",
    "interaction_channel_H = interaction_channel[nucleus==2212]\n",
    "\n",
    "bjorken_x_O = bjorken_x[nucleus==1000080160]\n",
    "cross_section_O = cross_section[nucleus==1000080160]\n",
    "energies_O = energies[nucleus==1000080160]\n",
    "interaction_channel_O = interaction_channel[nucleus==1000080160]\n",
    "\n",
    "boolean_H = (energies_H > 100) * (energies_H < 110)\n",
    "boolean_O = (energies_O > 100) * (energies_O < 110)"
   ]
  },
  {
   "cell_type": "code",
   "execution_count": 54,
   "id": "42346bb3-840b-4223-88e6-60bc69b98264",
   "metadata": {},
   "outputs": [],
   "source": [
    "E_H, cs_H, err_H = process_bins_with_error(cross_section_H[boolean_H],interaction_channel_H[boolean_H],bjorken_x_H[boolean_H],0,1,'linear',10)\n",
    "E_O, cs_O, err_O = process_bins_with_error(cross_section_O[boolean_O],interaction_channel_O[boolean_O],bjorken_x_O[boolean_O],0,1,'linear',10)\n",
    "\n",
    "\n"
   ]
  },
  {
   "cell_type": "code",
   "execution_count": 55,
   "id": "7c42f794-791f-4698-99ad-917995aed7d9",
   "metadata": {},
   "outputs": [],
   "source": [
    "norm = 16"
   ]
  },
  {
   "cell_type": "code",
   "execution_count": 56,
   "id": "e462bbfd-9914-42b7-9b87-9a2b41702092",
   "metadata": {},
   "outputs": [
    {
     "name": "stderr",
     "output_type": "stream",
     "text": [
      "/project/antares/jurjanbootsma/venv/lib64/python3.6/site-packages/ipykernel_launcher.py:1: RuntimeWarning: invalid value encountered in true_divide\n",
      "  \"\"\"Entry point for launching an IPython kernel.\n",
      "/project/antares/jurjanbootsma/venv/lib64/python3.6/site-packages/ipykernel_launcher.py:2: RuntimeWarning: invalid value encountered in true_divide\n",
      "  \n"
     ]
    }
   ],
   "source": [
    "ratio = (cs_O/norm)/cs_H\n",
    "errors = (err_H/cs_H) + ((cs_O/norm)*(err_O/norm))/cs_H**2"
   ]
  },
  {
   "cell_type": "code",
   "execution_count": 57,
   "id": "4caac474-b8cf-4243-be12-0ec8462273be",
   "metadata": {},
   "outputs": [
    {
     "data": {
      "image/png": "[encoded data removed]",
      "text/plain": [
       "<Figure size 864x576 with 1 Axes>"
      ]
     },
     "metadata": {
      "needs_background": "light"
     },
     "output_type": "display_data"
    }
   ],
   "source": [
    "fig=plt.figure(figsize=(12,8))\n",
    "plt.title(\"EMC Effect\", fontsize=20)\n",
    "plt.ylabel(r\"$\\sigma_O/\\sigma_H$\",fontsize=15)\n",
    "plt.xlabel(\"bjorken-x\",fontsize=15)\n",
    "plt.errorbar(E_H, ratio, yerr=errors, fmt='.')\n",
    "plt.xlim(-0.02,1.02)\n",
    "plt.grid()\n",
    "plt.show()"
   ]
  },
  {
   "cell_type": "code",
   "execution_count": null,
   "id": "220c1e9c-12ce-4b22-a543-20b287458e70",
   "metadata": {},
   "outputs": [],
   "source": []
  }
 ],
 "metadata": {
  "kernelspec": {
   "display_name": "Python 3",
   "language": "python",
   "name": "python3"
  },
  "language_info": {
   "codemirror_mode": {
    "name": "ipython",
    "version": 3
   },
   "file_extension": ".py",
   "mimetype": "text/x-python",
   "name": "python",
   "nbconvert_exporter": "python",
   "pygments_lexer": "ipython3",
   "version": "3.6.8"
  }
 },
 "nbformat": 4,
 "nbformat_minor": 5
}
